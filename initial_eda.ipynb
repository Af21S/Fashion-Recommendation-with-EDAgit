{
 "cells": [
  {
   "cell_type": "code",
   "execution_count": 2,
   "metadata": {},
   "outputs": [
    {
     "name": "stdout",
     "output_type": "stream",
     "text": [
      "Shape of embeddings: (220, 2048)\n",
      "Number of files: 220\n"
     ]
    }
   ],
   "source": [
    "import pickle\n",
    "import numpy as np\n",
    "import matplotlib.pyplot as plt\n",
    "\n",
    "with open('embeddings.pkl', 'rb') as f:\n",
    "    feature_list = pickle.load(f)\n",
    "\n",
    "with open('filenames.pkl', 'rb') as f:\n",
    "    filenames = pickle.load(f)\n",
    "\n",
    "embeddings = np.array(feature_list)\n",
    "\n",
    "print(\"Shape of embeddings:\", embeddings.shape)\n",
    "print(\"Number of files:\", len(filenames))\n",
    "\n",
    "\n",
    "\n",
    "\n",
    "\n",
    "\n",
    "\n"
   ]
  },
  {
   "cell_type": "code",
   "execution_count": 3,
   "metadata": {},
   "outputs": [
    {
     "name": "stdout",
     "output_type": "stream",
     "text": [
      "No missing values in embeddings data.\n",
      "No missing filenames.\n"
     ]
    }
   ],
   "source": [
    "if np.any(np.isnan(embeddings)):\n",
    "    print(\"Warning: There are missing values in the embeddings data.\")\n",
    "else:\n",
    "    print(\"No missing values in embeddings data.\")\n",
    "\n",
    "if any(filename is None or filename == '' for filename in filenames):\n",
    "    print(\"Warning: There are missing filenames.\")\n",
    "else:\n",
    "    print(\"No missing filenames.\")\n"
   ]
  },
  {
   "cell_type": "code",
   "execution_count": 4,
   "metadata": {},
   "outputs": [
    {
     "name": "stdout",
     "output_type": "stream",
     "text": [
      "Shape of embeddings: (220, 2048)\n",
      "Number of files: 220\n"
     ]
    }
   ],
   "source": [
    "\n",
    "\n",
    "print(\"Shape of embeddings:\", embeddings.shape)\n",
    "\n",
    "print(\"Number of files:\", len(filenames))"
   ]
  },
  {
   "cell_type": "code",
   "execution_count": null,
   "metadata": {},
   "outputs": [],
   "source": []
  },
  {
   "cell_type": "code",
   "execution_count": null,
   "metadata": {},
   "outputs": [],
   "source": []
  }
 ],
 "metadata": {
  "kernelspec": {
   "display_name": "base",
   "language": "python",
   "name": "python3"
  },
  "language_info": {
   "codemirror_mode": {
    "name": "ipython",
    "version": 3
   },
   "file_extension": ".py",
   "mimetype": "text/x-python",
   "name": "python",
   "nbconvert_exporter": "python",
   "pygments_lexer": "ipython3",
   "version": "3.11.5"
  }
 },
 "nbformat": 4,
 "nbformat_minor": 2
}
